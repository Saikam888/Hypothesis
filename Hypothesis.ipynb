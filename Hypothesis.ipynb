{
  "nbformat": 4,
  "nbformat_minor": 0,
  "metadata": {
    "colab": {
      "provenance": []
    },
    "kernelspec": {
      "name": "python3",
      "display_name": "Python 3"
    },
    "language_info": {
      "name": "python"
    }
  },
  "cells": [
    {
      "cell_type": "code",
      "source": [
        "import math\n",
        "from scipy.stats import norm\n"
      ],
      "metadata": {
        "id": "ou8Out6L1BLW"
      },
      "execution_count": null,
      "outputs": []
    },
    {
      "cell_type": "code",
      "source": [
        "\n",
        "# Given Data\n",
        "sample_mean = 3050  # x̄\n",
        "sample_size = 25    # n\n",
        "mu_X = 600          # Mean number of units produced\n",
        "std_X = 25          # Standard deviation of X\n"
      ],
      "metadata": {
        "id": "bRTGmFrd1M-c"
      },
      "execution_count": null,
      "outputs": []
    },
    {
      "cell_type": "code",
      "source": [
        "sample_mean"
      ],
      "metadata": {
        "colab": {
          "base_uri": "https://localhost:8080/"
        },
        "id": "yB1Fba-V1mQP",
        "outputId": "804215af-5bc1-48d4-b072-8e8a85b826b8"
      },
      "execution_count": null,
      "outputs": [
        {
          "output_type": "execute_result",
          "data": {
            "text/plain": [
              "3050"
            ]
          },
          "metadata": {},
          "execution_count": 30
        }
      ]
    },
    {
      "cell_type": "code",
      "source": [
        "sample_size"
      ],
      "metadata": {
        "colab": {
          "base_uri": "https://localhost:8080/"
        },
        "id": "DPiZdCyt1ucK",
        "outputId": "8e611c93-0ce3-4907-d8a7-95dbb5fdb271"
      },
      "execution_count": null,
      "outputs": [
        {
          "output_type": "execute_result",
          "data": {
            "text/plain": [
              "25"
            ]
          },
          "metadata": {},
          "execution_count": 31
        }
      ]
    },
    {
      "cell_type": "code",
      "source": [
        "mu_X"
      ],
      "metadata": {
        "colab": {
          "base_uri": "https://localhost:8080/"
        },
        "id": "CKmFu77r1w0G",
        "outputId": "1910250d-137d-41b9-8e40-16c406cf1fc4"
      },
      "execution_count": null,
      "outputs": [
        {
          "output_type": "execute_result",
          "data": {
            "text/plain": [
              "600"
            ]
          },
          "metadata": {},
          "execution_count": 32
        }
      ]
    },
    {
      "cell_type": "code",
      "source": [
        "std_X"
      ],
      "metadata": {
        "colab": {
          "base_uri": "https://localhost:8080/"
        },
        "id": "twfMlqoq1yTy",
        "outputId": "f5716884-9ff9-4f39-c730-bd5749fb9c07"
      },
      "execution_count": null,
      "outputs": [
        {
          "output_type": "execute_result",
          "data": {
            "text/plain": [
              "25"
            ]
          },
          "metadata": {},
          "execution_count": 33
        }
      ]
    },
    {
      "cell_type": "code",
      "source": [
        "# Step 1: State the Hypotheses\n",
        "print(\"STEP 1: Hypotheses\")\n",
        "print(\"Null Hypothesis (H0): The average weekly operating cost is equal to the theoretical cost.\")\n",
        "print(\"Alternative Hypothesis (H1): The average weekly operating cost is higher than the theoretical cost.\")\n",
        "print()"
      ],
      "metadata": {
        "colab": {
          "base_uri": "https://localhost:8080/"
        },
        "id": "tWDL1DG_10MT",
        "outputId": "60c58917-5d22-4841-c510-cca1dc7ec07c"
      },
      "execution_count": null,
      "outputs": [
        {
          "output_type": "stream",
          "name": "stdout",
          "text": [
            "STEP 1: Hypotheses\n",
            "Null Hypothesis (H0): The average weekly operating cost is equal to the theoretical cost.\n",
            "Alternative Hypothesis (H1): The average weekly operating cost is higher than the theoretical cost.\n",
            "\n"
          ]
        }
      ]
    },
    {
      "cell_type": "code",
      "source": [
        "# Step 2: Calculate the Test Statistic\n",
        "# Theoretical weekly cost (μ) = 1000 + 5*X\n",
        "theoretical_mean = 1000 + 5 * mu_X  # 1000 + 5*600 = 4000\n",
        "sigma = 5 * std_X                   # 5 * 25 = 125"
      ],
      "metadata": {
        "id": "uXyLiN8t174o"
      },
      "execution_count": null,
      "outputs": []
    },
    {
      "cell_type": "code",
      "source": [
        "theoretical_mean"
      ],
      "metadata": {
        "colab": {
          "base_uri": "https://localhost:8080/"
        },
        "id": "igGPFxz42JkT",
        "outputId": "d2c2bbbd-73e6-4974-a015-f2620978b397"
      },
      "execution_count": null,
      "outputs": [
        {
          "output_type": "execute_result",
          "data": {
            "text/plain": [
              "4000"
            ]
          },
          "metadata": {},
          "execution_count": 36
        }
      ]
    },
    {
      "cell_type": "code",
      "source": [
        "sigma"
      ],
      "metadata": {
        "colab": {
          "base_uri": "https://localhost:8080/"
        },
        "id": "_Y_881I42NC-",
        "outputId": "1ba9f941-05ef-4cb4-bf16-f0bf3d9a6a58"
      },
      "execution_count": null,
      "outputs": [
        {
          "output_type": "execute_result",
          "data": {
            "text/plain": [
              "125"
            ]
          },
          "metadata": {},
          "execution_count": 37
        }
      ]
    },
    {
      "cell_type": "code",
      "source": [
        "# Standard error (SE)\n",
        "SE = sigma / math.sqrt(sample_size)\n",
        "\n"
      ],
      "metadata": {
        "id": "E3O7vhFt2PBu"
      },
      "execution_count": null,
      "outputs": []
    },
    {
      "cell_type": "code",
      "source": [
        "SE"
      ],
      "metadata": {
        "colab": {
          "base_uri": "https://localhost:8080/"
        },
        "id": "kp77bMNb2aU-",
        "outputId": "2ecf26b1-3f28-4daa-9c6a-5305b320b892"
      },
      "execution_count": null,
      "outputs": [
        {
          "output_type": "execute_result",
          "data": {
            "text/plain": [
              "25.0"
            ]
          },
          "metadata": {},
          "execution_count": 39
        }
      ]
    },
    {
      "cell_type": "code",
      "source": [
        "# Test statistic (Z)\n",
        "z = (sample_mean - theoretical_mean) / SE\n"
      ],
      "metadata": {
        "id": "TYzvMvly2cOB"
      },
      "execution_count": null,
      "outputs": []
    },
    {
      "cell_type": "code",
      "source": [
        "z"
      ],
      "metadata": {
        "colab": {
          "base_uri": "https://localhost:8080/"
        },
        "id": "3gz_fhh32lcj",
        "outputId": "1543e67b-dbe1-4aa2-8544-49112b8c962a"
      },
      "execution_count": null,
      "outputs": [
        {
          "output_type": "execute_result",
          "data": {
            "text/plain": [
              "-38.0"
            ]
          },
          "metadata": {},
          "execution_count": 41
        }
      ]
    },
    {
      "cell_type": "code",
      "source": [
        "print(\"STEP 2: Calculate the Test Statistic\")\n",
        "print(f\"Theoretical mean cost (μ): {theoretical_mean}\")\n",
        "print(f\"Standard deviation (σ): {sigma}\")\n",
        "print(f\"Standard error (SE): {SE:.2f}\")\n",
        "print(f\"Z test statistic: {z:.4f}\")\n",
        "print()"
      ],
      "metadata": {
        "colab": {
          "base_uri": "https://localhost:8080/"
        },
        "id": "DDWDiDgk2mJl",
        "outputId": "2d44611c-16b5-4608-d5ed-5457a2b23337"
      },
      "execution_count": null,
      "outputs": [
        {
          "output_type": "stream",
          "name": "stdout",
          "text": [
            "STEP 2: Calculate the Test Statistic\n",
            "Theoretical mean cost (μ): 4000\n",
            "Standard deviation (σ): 125\n",
            "Standard error (SE): 25.00\n",
            "Z test statistic: -38.0000\n",
            "\n"
          ]
        }
      ]
    },
    {
      "cell_type": "code",
      "source": [
        "# Step 3: Determine the Critical Value\n",
        "alpha = 0.05\n",
        "critical_value = norm.ppf(1 - alpha)  # One-tailed test\n",
        "\n"
      ],
      "metadata": {
        "id": "pBrt__T52sZk"
      },
      "execution_count": null,
      "outputs": []
    },
    {
      "cell_type": "code",
      "source": [
        "critical_value"
      ],
      "metadata": {
        "colab": {
          "base_uri": "https://localhost:8080/"
        },
        "id": "jki57W8K27kn",
        "outputId": "a3925b49-ed1f-4ff7-9224-130f8f4f17dd"
      },
      "execution_count": null,
      "outputs": [
        {
          "output_type": "execute_result",
          "data": {
            "text/plain": [
              "np.float64(1.6448536269514722)"
            ]
          },
          "metadata": {},
          "execution_count": 44
        }
      ]
    },
    {
      "cell_type": "code",
      "source": [
        "print(\"STEP 3: Critical Value\")\n",
        "print(f\"Significance level (α): {alpha}\")\n",
        "print(f\"Critical value (Zα): {critical_value:.4f}\")\n",
        "print()"
      ],
      "metadata": {
        "colab": {
          "base_uri": "https://localhost:8080/"
        },
        "id": "uWeGynJJ2-17",
        "outputId": "33b8d271-0a78-45d4-c03f-e9b5dd95e525"
      },
      "execution_count": null,
      "outputs": [
        {
          "output_type": "stream",
          "name": "stdout",
          "text": [
            "STEP 3: Critical Value\n",
            "Significance level (α): 0.05\n",
            "Critical value (Zα): 1.6449\n",
            "\n"
          ]
        }
      ]
    },
    {
      "cell_type": "code",
      "source": [
        "# Step 4: Make a Decision\n",
        "print(\"STEP 4: Decision\")\n",
        "if z > critical_value:\n",
        "    print(\"Since Z > Zα → Reject the null hypothesis.\")\n",
        "else:\n",
        "    print(\"Since Z <= Zα → Do NOT reject the null hypothesis.\")\n",
        "print()"
      ],
      "metadata": {
        "colab": {
          "base_uri": "https://localhost:8080/"
        },
        "id": "Czgo4uyJ3PRr",
        "outputId": "819a129c-0d84-49a6-84c7-3a85d264150d"
      },
      "execution_count": null,
      "outputs": [
        {
          "output_type": "stream",
          "name": "stdout",
          "text": [
            "STEP 4: Decision\n",
            "Since Z <= Zα → Do NOT reject the null hypothesis.\n",
            "\n"
          ]
        }
      ]
    },
    {
      "cell_type": "code",
      "source": [
        "# Step 5: Conclusion\n",
        "print(\"STEP 5: Conclusion\")\n",
        "if z > critical_value:\n",
        "    print(\"There is strong evidence to support the claim that the weekly operating costs are higher than the model suggests.\")\n",
        "else:\n",
        "    print(\"There is not enough evidence to support the claim that the weekly operating costs are higher than the model suggests.\")\n"
      ],
      "metadata": {
        "colab": {
          "base_uri": "https://localhost:8080/"
        },
        "id": "YjESx-cY3WM_",
        "outputId": "436dd165-1a62-4146-f088-fadc27752317"
      },
      "execution_count": null,
      "outputs": [
        {
          "output_type": "stream",
          "name": "stdout",
          "text": [
            "STEP 5: Conclusion\n",
            "There is not enough evidence to support the claim that the weekly operating costs are higher than the model suggests.\n"
          ]
        }
      ]
    },
    {
      "cell_type": "code",
      "source": [],
      "metadata": {
        "id": "zExRbikG3fIh"
      },
      "execution_count": null,
      "outputs": []
    }
  ]
}